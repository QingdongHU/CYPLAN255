{
 "cells": [
  {
   "cell_type": "markdown",
   "metadata": {},
   "source": [
    "# Assignment 2 | Programming Logic\n",
    "\n",
    "Reminder: in all of the assignments this semester, the answer is not the only consideration, but also how you get to it. It's OK (suggested even!) to use the internet for help. But you _should_ be able to answer all of these questions using only the programming techniques you have learned in class and from the readings.\n",
    "\n",
    "A few keys for success:\n",
    "- Avoid manual data entry\n",
    "- Emphasize logic and clarity\n",
    "- Use comments, docstrings, and descriptive variable names\n",
    "- In general, less code is better. But if more lines of code makes your program easier to read or understand what its doing, then go for it."
   ]
  },
  {
   "cell_type": "markdown",
   "metadata": {},
   "source": [
    "## Problem 1 \n",
    "Write a Python program to count the number of even and odd numbers from a list of numbers. Test your code by running it on a list of integers from 1 to 9. No need to make this a function unless you want to."
   ]
  },
  {
   "cell_type": "code",
   "execution_count": 9,
   "metadata": {},
   "outputs": [
    {
     "name": "stdout",
     "output_type": "stream",
     "text": [
      "the number of evenn number is  4 The number of odd number is  5\n"
     ]
    }
   ],
   "source": [
    "def count_num(ls):\n",
    "    even_num, odd_num = 0,0\n",
    "    for i in ls:\n",
    "        if i % 2==0:\n",
    "            even_num=even_num +1\n",
    "        else:\n",
    "            odd_num=odd_num +1\n",
    "    print('the number of evenn number is ', even_num, 'The number of odd number is ',odd_num)\n",
    "    \n",
    "count_num(list(range(1,10)))\n",
    "\n",
    "        "
   ]
  },
  {
   "cell_type": "markdown",
   "metadata": {
    "collapsed": true
   },
   "source": [
    "## Problem 2\n",
    "Write a Python function that takes a list of numbers and returns a list containing only the even numbers from the original list. Test your function by running it on a list of integers from 1 to 9."
   ]
  },
  {
   "cell_type": "code",
   "execution_count": 11,
   "metadata": {},
   "outputs": [
    {
     "name": "stdout",
     "output_type": "stream",
     "text": [
      "[2, 4, 6, 8]\n"
     ]
    }
   ],
   "source": [
    "def even_num(ls):\n",
    "    even=[]\n",
    "    for i in ls:\n",
    "        if i % 2==0:\n",
    "            even.append(i)\n",
    "    print(even)\n",
    "    \n",
    "even_num(list(range(1,10)))\n"
   ]
  },
  {
   "cell_type": "markdown",
   "metadata": {},
   "source": [
    "## Problem 3\n",
    "\n",
    "1. Create a function that accepts a list of integers as an argument and returns a list of floats which equals each number as a fraction of the sum of all the items in the original list.\n",
    "\n",
    "2. Next, create a second function which is the same as the first, but limit each number in the output list to two decimals.\n",
    "\n",
    "3. Create another function which builds on the previous one by allowing a \"user\" pass in an argument that defines the number of decimal places to use in the output list.\n",
    "\n",
    "4. Test each of these functions with a list of integers"
   ]
  },
  {
   "cell_type": "code",
   "execution_count": 17,
   "metadata": {},
   "outputs": [
    {
     "name": "stdout",
     "output_type": "stream",
     "text": [
      "[0.06666666666666667, 0.13333333333333333, 0.2, 0.26666666666666666, 0.3333333333333333]\n",
      "[0.07, 0.13, 0.2, 0.27, 0.33]\n",
      "Please enter the number of decimals: 5\n",
      "[0.06667, 0.13333, 0.2, 0.26667, 0.33333]\n"
     ]
    }
   ],
   "source": [
    "lst=[1,2,3,4,5]\n",
    "\n",
    "def fraction(ls):\n",
    "    fra=[]\n",
    "    for i in ls:\n",
    "        f=i/sum(ls)\n",
    "        fra.append(f)\n",
    "    print(fra)\n",
    "    \n",
    "fraction(lst)\n",
    "\n",
    "def fraction_2(ls):\n",
    "    fra=[]\n",
    "    for i in ls:\n",
    "        f=i/sum(ls)\n",
    "        fra.append(round(f,2))\n",
    "    print(fra)\n",
    "    \n",
    "fraction_2(lst)\n",
    "\n",
    "def decimal(ls):\n",
    "    t = int(input('Please enter the number of decimals: '))\n",
    "    fra=[]\n",
    "    for i in ls:\n",
    "        f=i/sum(ls)\n",
    "        fra.append(round(f,t))\n",
    "    print(fra)\n",
    "    \n",
    "decimal(lst)"
   ]
  },
  {
   "cell_type": "markdown",
   "metadata": {},
   "source": [
    "## Problem 4\n",
    "A prime number is any whole number greater than 1 that has no positive divisors besides 1 and itself. In other words, a prime number must be:\n",
    "1. an integer\n",
    "2. greater than 1\n",
    "3. divisible only by 1 and itself.\n",
    "\n",
    "Write a function is_prime(n) that accepts an argument `n` and returns `True` (boolean) if `n` is a prime number and `False` if n is not prime. For example, `is_prime(11)` should return `True` and `is_prime(12)` should return `False`.\n"
   ]
  },
  {
   "cell_type": "code",
   "execution_count": 23,
   "metadata": {},
   "outputs": [
    {
     "data": {
      "text/plain": [
       "True"
      ]
     },
     "execution_count": 23,
     "metadata": {},
     "output_type": "execute_result"
    }
   ],
   "source": [
    "def _prime(n):\n",
    "    if n>1 and type(n)==int:\n",
    "        for i in range(2,n):\n",
    "            if n%i!=0:\n",
    "                return True\n",
    "            else:\n",
    "                return False\n",
    "    else:\n",
    "        return False\n",
    "    \n",
    "_prime(11)\n",
    "    "
   ]
  },
  {
   "cell_type": "markdown",
   "metadata": {},
   "source": [
    "## Problem 5"
   ]
  },
  {
   "cell_type": "markdown",
   "metadata": {},
   "source": [
    "1. Create a class called `Housing`, and add the following attributes to it:\n",
    "  - type\n",
    "  - area\n",
    "  - number of bedrooms\n",
    "  - value (price)\n",
    "  - year built.\n",
    "2. Create two instances of your class and populate their attributes (make 'em up)\n",
    "3. Create a method called `rent()` that calculates the estimated monthly rent for each house (assume that monthly rent is 0.4% of the value of the house)\n",
    "4. Print the rent for both instances."
   ]
  },
  {
   "cell_type": "code",
   "execution_count": 26,
   "metadata": {},
   "outputs": [
    {
     "name": "stdout",
     "output_type": "stream",
     "text": [
      "84.0 180.0\n"
     ]
    }
   ],
   "source": [
    "class Housing:\n",
    "    \n",
    "    def __init__(self, typ,area, numBeds, value, year):\n",
    "        self.typ = typ\n",
    "        self.area=area\n",
    "        self.numBeds = numBeds\n",
    "        self.value=value\n",
    "        self.year=year\n",
    "    \n",
    "    def rent(self):\n",
    "        return self.value*0.004\n",
    "    \n",
    "house_1=Housing('townhouse','2000sqft', 3, 21000, 1999)\n",
    "house_2=Housing('condo','4000sqft', 5, 45000, 2007)\n",
    "\n",
    "print(house_1.rent(),house_2.rent()) \n",
    "        "
   ]
  },
  {
   "cell_type": "code",
   "execution_count": null,
   "metadata": {},
   "outputs": [],
   "source": []
  }
 ],
 "metadata": {
  "kernelspec": {
   "display_name": "Python 3",
   "language": "python",
   "name": "python3"
  },
  "language_info": {
   "codemirror_mode": {
    "name": "ipython",
    "version": 3
   },
   "file_extension": ".py",
   "mimetype": "text/x-python",
   "name": "python",
   "nbconvert_exporter": "python",
   "pygments_lexer": "ipython3",
   "version": "3.6.9"
  },
  "toc": {
   "base_numbering": 1,
   "nav_menu": {},
   "number_sections": false,
   "sideBar": false,
   "skip_h1_title": true,
   "title_cell": "Table of Contents",
   "title_sidebar": "Contents",
   "toc_cell": false,
   "toc_position": {},
   "toc_section_display": true,
   "toc_window_display": false
  }
 },
 "nbformat": 4,
 "nbformat_minor": 5
}
